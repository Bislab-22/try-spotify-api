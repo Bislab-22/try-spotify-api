{
 "cells": [
  {
   "cell_type": "code",
   "execution_count": 1,
   "id": "68a333ac",
   "metadata": {},
   "outputs": [
    {
     "name": "stdout",
     "output_type": "stream",
     "text": [
      "Requirement already satisfied: spotipy in /usr/local/lib/python3.8/dist-packages (2.19.0)\n",
      "Requirement already satisfied: six>=1.15.0 in /usr/local/lib/python3.8/dist-packages (from spotipy) (1.16.0)\n",
      "Requirement already satisfied: urllib3>=1.26.0 in /usr/local/lib/python3.8/dist-packages (from spotipy) (1.26.9)\n",
      "Requirement already satisfied: requests>=2.25.0 in /usr/local/lib/python3.8/dist-packages (from spotipy) (2.27.1)\n",
      "Requirement already satisfied: charset-normalizer~=2.0.0; python_version >= \"3\" in /usr/local/lib/python3.8/dist-packages (from requests>=2.25.0->spotipy) (2.0.12)\n",
      "Requirement already satisfied: idna<4,>=2.5; python_version >= \"3\" in /usr/local/lib/python3.8/dist-packages (from requests>=2.25.0->spotipy) (3.3)\n",
      "Requirement already satisfied: certifi>=2017.4.17 in /usr/local/lib/python3.8/dist-packages (from requests>=2.25.0->spotipy) (2021.10.8)\n",
      "Note: you may need to restart the kernel to use updated packages.\n"
     ]
    }
   ],
   "source": [
    "# ソースコードをcolrabratoryで実行するときのみ最初に実行\n",
    "!pip install spotipy\n"
   ]
  },
  {
   "cell_type": "code",
   "execution_count": 20,
   "id": "032cd03d",
   "metadata": {},
   "outputs": [],
   "source": [
    "import os\n",
    "import pprint\n",
    "from tqdm import tqdm\n",
    "import pandas as pd\n",
    "import spotipy\n",
    "from spotipy.oauth2 import SpotifyClientCredentials\n",
    "import json"
   ]
  },
  {
   "cell_type": "code",
   "execution_count": 21,
   "id": "64ab5af0",
   "metadata": {},
   "outputs": [],
   "source": [
    "# APIの認証\n",
    "with open('api_key.txt') as f:\n",
    "    id, key = f.read().splitlines()\n",
    "client_credentails_maneger = spotipy.oauth2.SpotifyClientCredentials(\n",
    "    id, key)\n",
    "spotify = spotipy.Spotify(\n",
    "    client_credentials_manager=client_credentails_maneger)\n",
    "source = os.path.join(\"resource\", \"regional-jp-daily-latest.csv\")\n",
    "top_jp_song = pd.read_csv(source, header=1)"
   ]
  },
  {
   "cell_type": "code",
   "execution_count": 29,
   "id": "26349dd5",
   "metadata": {},
   "outputs": [
    {
     "name": "stderr",
     "output_type": "stream",
     "text": [
      "100%|███████████████████████████████| 200/200 [00:16<00:00, 12.25it/s]\n"
     ]
    },
    {
     "data": {
      "text/html": [
       "<div>\n",
       "<style scoped>\n",
       "    .dataframe tbody tr th:only-of-type {\n",
       "        vertical-align: middle;\n",
       "    }\n",
       "\n",
       "    .dataframe tbody tr th {\n",
       "        vertical-align: top;\n",
       "    }\n",
       "\n",
       "    .dataframe thead th {\n",
       "        text-align: right;\n",
       "    }\n",
       "</style>\n",
       "<table border=\"1\" class=\"dataframe\">\n",
       "  <thead>\n",
       "    <tr style=\"text-align: right;\">\n",
       "      <th></th>\n",
       "      <th>Position</th>\n",
       "      <th>Track Name</th>\n",
       "      <th>Artist</th>\n",
       "      <th>Streams</th>\n",
       "      <th>URL</th>\n",
       "    </tr>\n",
       "  </thead>\n",
       "  <tbody>\n",
       "    <tr>\n",
       "      <th>0</th>\n",
       "      <td>1</td>\n",
       "      <td>W / X / Y</td>\n",
       "      <td>Tani Yuuki</td>\n",
       "      <td>220318</td>\n",
       "      <td>https://open.spotify.com/track/4IfrM44LofE9bSs...</td>\n",
       "    </tr>\n",
       "    <tr>\n",
       "      <th>1</th>\n",
       "      <td>2</td>\n",
       "      <td>ベテルギウス</td>\n",
       "      <td>Yuuri</td>\n",
       "      <td>205618</td>\n",
       "      <td>https://open.spotify.com/track/4JK1kDUdH9RTBQr...</td>\n",
       "    </tr>\n",
       "    <tr>\n",
       "      <th>2</th>\n",
       "      <td>3</td>\n",
       "      <td>シンデレラボーイ</td>\n",
       "      <td>Saucy Dog</td>\n",
       "      <td>191016</td>\n",
       "      <td>https://open.spotify.com/track/1Vqs0lXeJafYZz2...</td>\n",
       "    </tr>\n",
       "    <tr>\n",
       "      <th>3</th>\n",
       "      <td>4</td>\n",
       "      <td>なんでもないよ、</td>\n",
       "      <td>Macaroni Empitsu</td>\n",
       "      <td>184433</td>\n",
       "      <td>https://open.spotify.com/track/5W7Y92LB4jWvu9N...</td>\n",
       "    </tr>\n",
       "    <tr>\n",
       "      <th>4</th>\n",
       "      <td>5</td>\n",
       "      <td>ミックスナッツ</td>\n",
       "      <td>Official HIGE DANdism</td>\n",
       "      <td>182799</td>\n",
       "      <td>https://open.spotify.com/track/60ReNXcPcsVFd7n...</td>\n",
       "    </tr>\n",
       "    <tr>\n",
       "      <th>5</th>\n",
       "      <td>6</td>\n",
       "      <td>カメレオン</td>\n",
       "      <td>King Gnu</td>\n",
       "      <td>176656</td>\n",
       "      <td>https://open.spotify.com/track/0J0P8iSE6l3pYHb...</td>\n",
       "    </tr>\n",
       "    <tr>\n",
       "      <th>6</th>\n",
       "      <td>7</td>\n",
       "      <td>残響散歌</td>\n",
       "      <td>Aimer</td>\n",
       "      <td>161715</td>\n",
       "      <td>https://open.spotify.com/track/7v8wKvNQQIxkugC...</td>\n",
       "    </tr>\n",
       "    <tr>\n",
       "      <th>7</th>\n",
       "      <td>8</td>\n",
       "      <td>ドライフラワー</td>\n",
       "      <td>Yuuri</td>\n",
       "      <td>158183</td>\n",
       "      <td>https://open.spotify.com/track/4kPlQKwtPrnqLgr...</td>\n",
       "    </tr>\n",
       "    <tr>\n",
       "      <th>8</th>\n",
       "      <td>9</td>\n",
       "      <td>LOVE DIVE</td>\n",
       "      <td>IVE</td>\n",
       "      <td>151813</td>\n",
       "      <td>https://open.spotify.com/track/0Q5VnK2DYzRyfqQ...</td>\n",
       "    </tr>\n",
       "    <tr>\n",
       "      <th>9</th>\n",
       "      <td>10</td>\n",
       "      <td>水平線</td>\n",
       "      <td>back number</td>\n",
       "      <td>151341</td>\n",
       "      <td>https://open.spotify.com/track/5m1i6hq7dmRlp3c...</td>\n",
       "    </tr>\n",
       "  </tbody>\n",
       "</table>\n",
       "</div>"
      ],
      "text/plain": [
       "   Position Track Name                 Artist  Streams  \\\n",
       "0         1  W / X / Y             Tani Yuuki   220318   \n",
       "1         2     ベテルギウス                  Yuuri   205618   \n",
       "2         3   シンデレラボーイ              Saucy Dog   191016   \n",
       "3         4   なんでもないよ、       Macaroni Empitsu   184433   \n",
       "4         5    ミックスナッツ  Official HIGE DANdism   182799   \n",
       "5         6      カメレオン               King Gnu   176656   \n",
       "6         7       残響散歌                  Aimer   161715   \n",
       "7         8    ドライフラワー                  Yuuri   158183   \n",
       "8         9  LOVE DIVE                    IVE   151813   \n",
       "9        10        水平線            back number   151341   \n",
       "\n",
       "                                                 URL  \n",
       "0  https://open.spotify.com/track/4IfrM44LofE9bSs...  \n",
       "1  https://open.spotify.com/track/4JK1kDUdH9RTBQr...  \n",
       "2  https://open.spotify.com/track/1Vqs0lXeJafYZz2...  \n",
       "3  https://open.spotify.com/track/5W7Y92LB4jWvu9N...  \n",
       "4  https://open.spotify.com/track/60ReNXcPcsVFd7n...  \n",
       "5  https://open.spotify.com/track/0J0P8iSE6l3pYHb...  \n",
       "6  https://open.spotify.com/track/7v8wKvNQQIxkugC...  \n",
       "7  https://open.spotify.com/track/4kPlQKwtPrnqLgr...  \n",
       "8  https://open.spotify.com/track/0Q5VnK2DYzRyfqQ...  \n",
       "9  https://open.spotify.com/track/5m1i6hq7dmRlp3c...  "
      ]
     },
     "execution_count": 29,
     "metadata": {},
     "output_type": "execute_result"
    }
   ],
   "source": [
    "# Spotify chartから取得したデータをもとに特徴量を取得\n",
    "top_jp_song = pd.read_csv(\"regional-jp-daily-latest.csv\", header=1)\n",
    "\n",
    "song_info = pd.DataFrame()\n",
    "\n",
    "for url in tqdm(top_jp_song[\"URL\"]):\n",
    "    df = pd.DataFrame.from_dict(spotify.audio_features(url))\n",
    "    song_info = pd.concat([song_info, df])\n",
    "\n",
    "\n",
    "# 要素を表示\n",
    "top_jp_song.head(10)"
   ]
  },
  {
   "cell_type": "code",
   "execution_count": 31,
   "id": "d079d388",
   "metadata": {},
   "outputs": [
    {
     "data": {
      "text/plain": [
       "(200, 18)"
      ]
     },
     "execution_count": 31,
     "metadata": {},
     "output_type": "execute_result"
    }
   ],
   "source": [
    "# indexの振り直し\n",
    "song_info = song_info.reset_index(drop=True)\n",
    "song_info.head(100)"
   ]
  },
  {
   "cell_type": "code",
   "execution_count": null,
   "id": "5d6c69c5",
   "metadata": {},
   "outputs": [],
   "source": []
  }
 ],
 "metadata": {
  "kernelspec": {
   "display_name": "Python 3 (ipykernel)",
   "language": "python",
   "name": "python3"
  },
  "language_info": {
   "codemirror_mode": {
    "name": "ipython",
    "version": 3
   },
   "file_extension": ".py",
   "mimetype": "text/x-python",
   "name": "python",
   "nbconvert_exporter": "python",
   "pygments_lexer": "ipython3",
   "version": "3.8.10"
  }
 },
 "nbformat": 4,
 "nbformat_minor": 5
}
