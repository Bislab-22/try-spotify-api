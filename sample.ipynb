{
 "cells": [
  {
   "cell_type": "code",
   "execution_count": null,
   "id": "68a333ac",
   "metadata": {},
   "outputs": [],
   "source": [
    "# ソースコードをcolrabratoryで実行するときのみ最初に実行\n",
    "!pip install spotipy\n"
   ]
  },
  {
   "cell_type": "code",
   "execution_count": null,
   "id": "032cd03d",
   "metadata": {},
   "outputs": [],
   "source": [
    "import os\n",
    "from tqdm import tqdm\n",
    "import pandas as pd\n",
    "import spotipy\n",
    "from spotipy.oauth2 import SpotifyClientCredentials\n",
    "import utils\n"
   ]
  },
  {
   "cell_type": "code",
   "execution_count": null,
   "id": "64ab5af0",
   "metadata": {},
   "outputs": [],
   "source": [
    "# APIの認証\n",
    "with open('api_key.txt') as f:\n",
    "    id, key = f.read().splitlines()\n",
    "client_credentails_maneger = spotipy.oauth2.SpotifyClientCredentials(\n",
    "    id, key)\n",
    "spotify = spotipy.Spotify(\n",
    "    client_credentials_manager=client_credentails_maneger)\n",
    "source = os.path.join(\"source\", \"regional-jp-daily-latest.csv\")\n",
    "top_jp_song = pd.read_csv(source, header=1)\n",
    "top_jp_song"
   ]
  },
  {
   "cell_type": "code",
   "execution_count": null,
   "id": "5d6c69c5",
   "metadata": {},
   "outputs": [],
   "source": [
    "\n",
    "urls = top_jp_song[\"URL\"]\n",
    "\n",
    "\n",
    "song_info = utils.get_urls2feature(spotify=spotify, urls=urls)\n"
   ]
  },
  {
   "cell_type": "code",
   "execution_count": null,
   "id": "14c1b59e",
   "metadata": {},
   "outputs": [],
   "source": [
    "song_info"
   ]
  }
 ],
 "metadata": {
  "kernelspec": {
   "display_name": "Python 3 (ipykernel)",
   "language": "python",
   "name": "python3"
  },
  "language_info": {
   "codemirror_mode": {
    "name": "ipython",
    "version": 3
   },
   "file_extension": ".py",
   "mimetype": "text/x-python",
   "name": "python",
   "nbconvert_exporter": "python",
   "pygments_lexer": "ipython3",
   "version": "3.8.10"
  }
 },
 "nbformat": 4,
 "nbformat_minor": 5
}
