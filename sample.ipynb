{
 "cells": [
  {
   "cell_type": "code",
   "execution_count": null,
   "id": "68a333ac",
   "metadata": {},
   "outputs": [],
   "source": [
    "# ソースコードをcolrabratoryで実行するときのみ最初に実行\n",
    "!pip install spotipy\n"
   ]
  },
  {
   "cell_type": "code",
   "execution_count": 1,
   "id": "032cd03d",
   "metadata": {},
   "outputs": [],
   "source": [
    "import os\n",
    "from tqdm import tqdm\n",
    "import pandas as pd\n",
    "import spotipy\n",
    "from spotipy.oauth2 import SpotifyClientCredentials\n",
    "import utils\n"
   ]
  },
  {
   "cell_type": "code",
   "execution_count": 2,
   "id": "64ab5af0",
   "metadata": {},
   "outputs": [
    {
     "data": {
      "text/html": [
       "<div>\n",
       "<style scoped>\n",
       "    .dataframe tbody tr th:only-of-type {\n",
       "        vertical-align: middle;\n",
       "    }\n",
       "\n",
       "    .dataframe tbody tr th {\n",
       "        vertical-align: top;\n",
       "    }\n",
       "\n",
       "    .dataframe thead th {\n",
       "        text-align: right;\n",
       "    }\n",
       "</style>\n",
       "<table border=\"1\" class=\"dataframe\">\n",
       "  <thead>\n",
       "    <tr style=\"text-align: right;\">\n",
       "      <th></th>\n",
       "      <th>Position</th>\n",
       "      <th>Track Name</th>\n",
       "      <th>Artist</th>\n",
       "      <th>Streams</th>\n",
       "      <th>URL</th>\n",
       "    </tr>\n",
       "  </thead>\n",
       "  <tbody>\n",
       "    <tr>\n",
       "      <th>0</th>\n",
       "      <td>1</td>\n",
       "      <td>W / X / Y</td>\n",
       "      <td>Tani Yuuki</td>\n",
       "      <td>220318</td>\n",
       "      <td>https://open.spotify.com/track/4IfrM44LofE9bSs...</td>\n",
       "    </tr>\n",
       "    <tr>\n",
       "      <th>1</th>\n",
       "      <td>2</td>\n",
       "      <td>ベテルギウス</td>\n",
       "      <td>Yuuri</td>\n",
       "      <td>205618</td>\n",
       "      <td>https://open.spotify.com/track/4JK1kDUdH9RTBQr...</td>\n",
       "    </tr>\n",
       "    <tr>\n",
       "      <th>2</th>\n",
       "      <td>3</td>\n",
       "      <td>シンデレラボーイ</td>\n",
       "      <td>Saucy Dog</td>\n",
       "      <td>191016</td>\n",
       "      <td>https://open.spotify.com/track/1Vqs0lXeJafYZz2...</td>\n",
       "    </tr>\n",
       "    <tr>\n",
       "      <th>3</th>\n",
       "      <td>4</td>\n",
       "      <td>なんでもないよ、</td>\n",
       "      <td>Macaroni Empitsu</td>\n",
       "      <td>184433</td>\n",
       "      <td>https://open.spotify.com/track/5W7Y92LB4jWvu9N...</td>\n",
       "    </tr>\n",
       "    <tr>\n",
       "      <th>4</th>\n",
       "      <td>5</td>\n",
       "      <td>ミックスナッツ</td>\n",
       "      <td>Official HIGE DANdism</td>\n",
       "      <td>182799</td>\n",
       "      <td>https://open.spotify.com/track/60ReNXcPcsVFd7n...</td>\n",
       "    </tr>\n",
       "    <tr>\n",
       "      <th>...</th>\n",
       "      <td>...</td>\n",
       "      <td>...</td>\n",
       "      <td>...</td>\n",
       "      <td>...</td>\n",
       "      <td>...</td>\n",
       "    </tr>\n",
       "    <tr>\n",
       "      <th>195</th>\n",
       "      <td>196</td>\n",
       "      <td>Tie Me Down (with Elley Duhé)</td>\n",
       "      <td>Gryffin</td>\n",
       "      <td>28105</td>\n",
       "      <td>https://open.spotify.com/track/2zh01m4PiHaZz4B...</td>\n",
       "    </tr>\n",
       "    <tr>\n",
       "      <th>196</th>\n",
       "      <td>197</td>\n",
       "      <td>プロローグ</td>\n",
       "      <td>Uru</td>\n",
       "      <td>28079</td>\n",
       "      <td>https://open.spotify.com/track/4YMukCV1BsdK8V9...</td>\n",
       "    </tr>\n",
       "    <tr>\n",
       "      <th>197</th>\n",
       "      <td>198</td>\n",
       "      <td>ただ君に晴れ</td>\n",
       "      <td>ヨルシカ</td>\n",
       "      <td>27897</td>\n",
       "      <td>https://open.spotify.com/track/3wJHCry960drNlA...</td>\n",
       "    </tr>\n",
       "    <tr>\n",
       "      <th>198</th>\n",
       "      <td>199</td>\n",
       "      <td>Yesterday</td>\n",
       "      <td>Official HIGE DANdism</td>\n",
       "      <td>27807</td>\n",
       "      <td>https://open.spotify.com/track/1kMlcLyljkrShV0...</td>\n",
       "    </tr>\n",
       "    <tr>\n",
       "      <th>199</th>\n",
       "      <td>200</td>\n",
       "      <td>Light Switch</td>\n",
       "      <td>Charlie Puth</td>\n",
       "      <td>27784</td>\n",
       "      <td>https://open.spotify.com/track/3AVXwaOGCEL8cmB...</td>\n",
       "    </tr>\n",
       "  </tbody>\n",
       "</table>\n",
       "<p>200 rows × 5 columns</p>\n",
       "</div>"
      ],
      "text/plain": [
       "     Position                     Track Name                 Artist  Streams  \\\n",
       "0           1                      W / X / Y             Tani Yuuki   220318   \n",
       "1           2                         ベテルギウス                  Yuuri   205618   \n",
       "2           3                       シンデレラボーイ              Saucy Dog   191016   \n",
       "3           4                       なんでもないよ、       Macaroni Empitsu   184433   \n",
       "4           5                        ミックスナッツ  Official HIGE DANdism   182799   \n",
       "..        ...                            ...                    ...      ...   \n",
       "195       196  Tie Me Down (with Elley Duhé)                Gryffin    28105   \n",
       "196       197                          プロローグ                    Uru    28079   \n",
       "197       198                         ただ君に晴れ                   ヨルシカ    27897   \n",
       "198       199                      Yesterday  Official HIGE DANdism    27807   \n",
       "199       200                   Light Switch           Charlie Puth    27784   \n",
       "\n",
       "                                                   URL  \n",
       "0    https://open.spotify.com/track/4IfrM44LofE9bSs...  \n",
       "1    https://open.spotify.com/track/4JK1kDUdH9RTBQr...  \n",
       "2    https://open.spotify.com/track/1Vqs0lXeJafYZz2...  \n",
       "3    https://open.spotify.com/track/5W7Y92LB4jWvu9N...  \n",
       "4    https://open.spotify.com/track/60ReNXcPcsVFd7n...  \n",
       "..                                                 ...  \n",
       "195  https://open.spotify.com/track/2zh01m4PiHaZz4B...  \n",
       "196  https://open.spotify.com/track/4YMukCV1BsdK8V9...  \n",
       "197  https://open.spotify.com/track/3wJHCry960drNlA...  \n",
       "198  https://open.spotify.com/track/1kMlcLyljkrShV0...  \n",
       "199  https://open.spotify.com/track/3AVXwaOGCEL8cmB...  \n",
       "\n",
       "[200 rows x 5 columns]"
      ]
     },
     "execution_count": 2,
     "metadata": {},
     "output_type": "execute_result"
    }
   ],
   "source": [
    "# APIの認証\n",
    "with open('api_key.txt') as f:\n",
    "    id, key = f.read().splitlines()\n",
    "client_credentails_maneger = spotipy.oauth2.SpotifyClientCredentials(\n",
    "    id, key)\n",
    "spotify = spotipy.Spotify(\n",
    "    client_credentials_manager=client_credentails_maneger)\n",
    "source = os.path.join(\"source\", \"regional-jp-daily-latest.csv\")\n",
    "top_jp_song = pd.read_csv(source, header=1)\n",
    "top_jp_song"
   ]
  },
  {
   "cell_type": "code",
   "execution_count": null,
   "id": "5d6c69c5",
   "metadata": {},
   "outputs": [],
   "source": [
    "\n",
    "urls = top_jp_song[\"URL\"]\n",
    "\n",
    "\n",
    "song_info = utils.get_urls2feature(spotify=spotify, urls=urls)\n"
   ]
  },
  {
   "cell_type": "code",
   "execution_count": 4,
   "id": "14c1b59e",
   "metadata": {},
   "outputs": [
    {
     "name": "stderr",
     "output_type": "stream",
     "text": [
      "100%|██████████| 1/1 [00:00<00:00, 19.21it/s]"
     ]
    },
    {
     "name": "stdout",
     "output_type": "stream",
     "text": [
      "not found\n",
      "None\n"
     ]
    },
    {
     "name": "stderr",
     "output_type": "stream",
     "text": [
      "\n"
     ]
    }
   ],
   "source": [
    "# song_info\n",
    "\n",
    "none = [\"none\"]\n",
    "a = utils.get_urls2feature(spotify=spotify, urls=none)"
   ]
  }
 ],
 "metadata": {
  "kernelspec": {
   "display_name": "Python 3 (ipykernel)",
   "language": "python",
   "name": "python3"
  },
  "language_info": {
   "codemirror_mode": {
    "name": "ipython",
    "version": 3
   },
   "file_extension": ".py",
   "mimetype": "text/x-python",
   "name": "python",
   "nbconvert_exporter": "python",
   "pygments_lexer": "ipython3",
   "version": "3.8.10"
  }
 },
 "nbformat": 4,
 "nbformat_minor": 5
}
